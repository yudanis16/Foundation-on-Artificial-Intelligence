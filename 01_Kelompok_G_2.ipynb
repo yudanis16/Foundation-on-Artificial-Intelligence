{
  "nbformat": 4,
  "nbformat_minor": 0,
  "metadata": {
    "colab": {
      "provenance": []
    },
    "kernelspec": {
      "name": "python3",
      "display_name": "Python 3"
    },
    "language_info": {
      "name": "python"
    }
  },
  "cells": [
    {
      "cell_type": "markdown",
      "source": [
        "Paper Money: <br>\n",
        "1. Rp 100,000    \n",
        "2. Rp 50,000   \n",
        "3. Rp 20,000   \n",
        "4. Rp 10,000   \n",
        "5. Rp 5,000   \n",
        "6. Rp 2,000\n",
        "<br>\n",
        "<br>\n",
        "Coins: <br>\n",
        "1. Rp 1,000  \n",
        "2. Rp 500  \n",
        "3. Rp 200\n",
        "4. Rp 100  \n",
        "*To make it easier, we assume that all Rp. 1000 denominations are coins.\n",
        "\n",
        "There are circumstances where the bank must liquidate all customer savings in the form of money, if the customer requests it.\n",
        "And imagine this is happening right now in front of you, help the bank to calculate how many denominations of money are needed.\n",
        "\n",
        "Here is the rule:\n",
        "\n",
        "1. Bank must prioritize the largest denominations first to be issued.\n",
        "2. If there is a balance that cannot be cashed, the bank must inform it.\n",
        "3. Bank must calculate how many number of Paper Money needed and Coins needed.\n",
        "4. Banks can only disburse a maximum amount of 1 billion Rupiah\n",
        "\n",
        "\n",
        "\n",
        "Make a python code that receives an integer number of customer savings from 0 - 1 Billions.\n"
      ],
      "metadata": {
        "id": "v4yL2-lQ9B_E"
      }
    },
    {
      "cell_type": "code",
      "execution_count": 1,
      "metadata": {
        "colab": {
          "base_uri": "https://localhost:8080/"
        },
        "id": "BadZYYvyin7Y",
        "outputId": "6afb818f-cbcc-43e9-8334-1d38648111d4"
      },
      "outputs": [
        {
          "output_type": "stream",
          "name": "stdout",
          "text": [
            "Enter an integer: 10\n",
            "You entered: 10\n"
          ]
        }
      ],
      "source": [
        "#Create command to get input from user, the input should be integer\n",
        "\n",
        "num = int(input(\"Enter an integer: \"))\n",
        "print(\"You entered:\", num)\n",
        "\n",
        "# Simpan nilai input ke variabel\n",
        "input_value = num"
      ]
    },
    {
      "cell_type": "code",
      "source": [
        "# Fungsi untuk menghitung jumlah uang kertas dan koin yang dibutuhkan\n",
        "def calculate_allmoney(amount):\n",
        "    allmoney = {\n",
        "        'Rp 100,000': 100000,\n",
        "        'Rp 50,000': 50000,\n",
        "        'Rp 20,000': 20000,\n",
        "        'Rp 10,000': 10000,\n",
        "        'Rp 5,000': 5000,\n",
        "        'Rp 2,000': 2000,\n",
        "        'Rp 1,000': 1000,\n",
        "        'Rp 500': 500,\n",
        "        'Rp 200': 200,\n",
        "        'Rp 100': 100\n",
        "    }\n",
        "\n",
        "    paper_money = ['Rp 100,000', 'Rp 50,000', 'Rp 20,000', 'Rp 10,000', 'Rp 5,000', 'Rp 2,000']\n",
        "    coins = ['Rp 1,000', 'Rp 500', 'Rp 200', 'Rp 100']\n",
        "\n",
        "    total_paper_money = 0\n",
        "    total_coins = 0\n",
        "    balance = amount\n",
        "    result = {}\n",
        "\n",
        "    for moneyx, value in allmoney.items():\n",
        "        count = balance // value\n",
        "        balance = balance % value\n",
        "        result[moneyx] = count\n",
        "        if moneyx in paper_money:\n",
        "            total_paper_money += count\n",
        "        else:\n",
        "            total_coins += count\n",
        "\n",
        "    return result, total_paper_money, total_coins, balance\n",
        "\n",
        "num = input_value\n",
        "\n",
        "# Cek input negatif\n",
        "if num < 0:\n",
        "    print(\"Please input the correct number.\")\n",
        "# Batas maksimum Rp 1000000000\n",
        "elif num > 1000000000:\n",
        "    print(\"Maximum Saving is 1,000,000,000.\")\n",
        "else:\n",
        "    allmoney_result, total_paper_money, total_coins, balance = calculate_allmoney(num)\n",
        "\n",
        "    # Bismillah hasil\n",
        "    for moneyx, count in allmoney_result.items():\n",
        "        print(f\"amount of currency {moneyx}: {count}\")\n",
        "\n",
        "    print(f\"\\nTotal Paper Money: {total_paper_money}\")\n",
        "    print(f\"Total Coins: {total_coins}\")\n",
        "\n",
        "    if balance > 0:\n",
        "        print(f\"\\nCannot be cashed out: {balance}\")\n"
      ],
      "metadata": {
        "colab": {
          "base_uri": "https://localhost:8080/"
        },
        "id": "jC9mLViZi169",
        "outputId": "e899ccfc-d21c-4a3d-99f9-88a8c6f9214a"
      },
      "execution_count": 2,
      "outputs": [
        {
          "output_type": "stream",
          "name": "stdout",
          "text": [
            "amount of currency Rp 100,000: 0\n",
            "amount of currency Rp 50,000: 0\n",
            "amount of currency Rp 20,000: 0\n",
            "amount of currency Rp 10,000: 0\n",
            "amount of currency Rp 5,000: 0\n",
            "amount of currency Rp 2,000: 0\n",
            "amount of currency Rp 1,000: 0\n",
            "amount of currency Rp 500: 0\n",
            "amount of currency Rp 200: 0\n",
            "amount of currency Rp 100: 0\n",
            "\n",
            "Total Paper Money: 0\n",
            "Total Coins: 0\n",
            "\n",
            "Cannot be cashed out: 10\n"
          ]
        }
      ]
    },
    {
      "cell_type": "code",
      "source": [],
      "metadata": {
        "id": "d-jU7PP5jIVV"
      },
      "execution_count": 2,
      "outputs": []
    }
  ]
}